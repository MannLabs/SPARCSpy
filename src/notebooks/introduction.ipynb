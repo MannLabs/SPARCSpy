{
 "cells": [
  {
   "cell_type": "code",
   "execution_count": null,
   "metadata": {},
   "outputs": [],
   "source": [
    "from vipercore.pipeline.project import Project\n",
    "from vipercore.pipeline.workflows import ShardedWGASegmentation\n",
    "from vipercore.pipeline.extraction import HDF5CellExtraction\n",
    "from vipercore.pipeline.selection import LMDSelection\n",
    "from vipercore.processing.utils import download_testimage\n",
    "\n",
    "import numpy as np\n",
    "import os\n",
    "import csv"
   ]
  },
  {
   "cell_type": "code",
   "execution_count": null,
   "metadata": {},
   "outputs": [],
   "source": [
    "location = download_testimage(\"/Users/georgwallmann/Documents/testdaten/viper_library_test\")"
   ]
  },
  {
   "cell_type": "code",
   "execution_count": null,
   "metadata": {},
   "outputs": [],
   "source": [
    "project_location = \"/Users/georgwallmann/Documents/testdaten/viper_library_test\"\n",
    "\n",
    "project = Project(project_location, \n",
    "                    config_path=\"settings.yaml\",\n",
    "                    overwrite=True,\n",
    "                    segmentation_f=ShardedWGASegmentation,\n",
    "                    extraction_f=HDF5CellExtraction,\n",
    "                    selection_f=LMDSelection)\n",
    "\n",
    "project.load_input_from_file(location)\n",
    "project.segment()\n",
    "project.extract()\n",
    "\n",
    "csv_location = os.path.join(project_location, \"segmentation/classes.csv\")\n",
    "\n",
    "with open(csv_location) as f:\n",
    "    reader = csv.reader(f)\n",
    "    data = list(reader)\n",
    "    data = np.array([int(el[0]) for el in data])\n",
    "\n",
    "cells_to_select = [{\"name\": \"dataset1\", \"classes\": list(data), \"well\": \"A1\"}]\n",
    "\n",
    "# calibration marker should be defined as (row, column)\n",
    "marker_0 = np.array([-10,-10])\n",
    "marker_1 = np.array([-10,3010])\n",
    "marker_2 = np.array([3010,1500])\n",
    "\n",
    "calibration_marker = np.array([marker_0, marker_1, marker_2])\n",
    "\n",
    "project.select(cells_to_select, calibration_marker)"
   ]
  }
 ],
 "metadata": {
  "interpreter": {
   "hash": "d713b97c682d581cd98bb746c153ad3da9fd159a1f2876b3caddc629c5de74d1"
  },
  "kernelspec": {
   "display_name": "Python 3.8.12 ('viper')",
   "language": "python",
   "name": "python3"
  },
  "language_info": {
   "codemirror_mode": {
    "name": "ipython",
    "version": 3
   },
   "file_extension": ".py",
   "mimetype": "text/x-python",
   "name": "python",
   "nbconvert_exporter": "python",
   "pygments_lexer": "ipython3",
   "version": "3.8.12"
  },
  "orig_nbformat": 4
 },
 "nbformat": 4,
 "nbformat_minor": 2
}
